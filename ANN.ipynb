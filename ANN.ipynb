{
 "cells": [
  {
   "cell_type": "code",
   "execution_count": 1,
   "metadata": {},
   "outputs": [],
   "source": [
    "import numpy as np\n",
    "import matplotlib.pyplot as plt\n",
    "import pandas as pd\n",
    "import sklearn"
   ]
  },
  {
   "cell_type": "code",
   "execution_count": 2,
   "metadata": {},
   "outputs": [],
   "source": [
    "dataset = pd.read_csv('Churn_Modelling.csv')\n",
    "X = dataset.iloc[:, 3:13].values\n",
    "y = dataset.iloc[:, 13].values\n"
   ]
  },
  {
   "cell_type": "code",
   "execution_count": 3,
   "metadata": {},
   "outputs": [
    {
     "name": "stderr",
     "output_type": "stream",
     "text": [
      "C:\\Users\\Moni\\Anaconda3\\lib\\site-packages\\sklearn\\preprocessing\\_encoders.py:415: FutureWarning: The handling of integer data will change in version 0.22. Currently, the categories are determined based on the range [0, max(values)], while in the future they will be determined based on the unique values.\n",
      "If you want the future behaviour and silence this warning, you can specify \"categories='auto'\".\n",
      "In case you used a LabelEncoder before this OneHotEncoder to convert the categories to integers, then you can now use the OneHotEncoder directly.\n",
      "  warnings.warn(msg, FutureWarning)\n",
      "C:\\Users\\Moni\\Anaconda3\\lib\\site-packages\\sklearn\\preprocessing\\_encoders.py:451: DeprecationWarning: The 'categorical_features' keyword is deprecated in version 0.20 and will be removed in 0.22. You can use the ColumnTransformer instead.\n",
      "  \"use the ColumnTransformer instead.\", DeprecationWarning)\n"
     ]
    }
   ],
   "source": [
    "from sklearn.preprocessing import LabelEncoder, OneHotEncoder\n",
    "labelencoder_X_1 = LabelEncoder()\n",
    "X[:, 1] = labelencoder_X_1.fit_transform(X[:, 1])\n",
    "labelencoder_X_2 = LabelEncoder()\n",
    "X[:, 2] = labelencoder_X_2.fit_transform(X[:, 2])\n",
    "onehotencoder = OneHotEncoder(categorical_features = [1])\n",
    "X = onehotencoder.fit_transform(X).toarray()\n",
    "X = X[:, 1:]"
   ]
  },
  {
   "cell_type": "code",
   "execution_count": 4,
   "metadata": {},
   "outputs": [],
   "source": [
    "from sklearn.model_selection import train_test_split\n",
    "X_train, X_test, y_train, y_test = train_test_split(X, y, test_size = 0.2, random_state = 0)"
   ]
  },
  {
   "cell_type": "code",
   "execution_count": 5,
   "metadata": {},
   "outputs": [],
   "source": [
    "from sklearn.preprocessing import StandardScaler\n",
    "sc = StandardScaler()\n",
    "X_train = sc.fit_transform(X_train)\n",
    "X_test = sc.transform(X_test)"
   ]
  },
  {
   "cell_type": "code",
   "execution_count": 6,
   "metadata": {},
   "outputs": [
    {
     "name": "stderr",
     "output_type": "stream",
     "text": [
      "Using TensorFlow backend.\n"
     ]
    }
   ],
   "source": [
    "import keras\n",
    "from keras.models import Sequential\n",
    "from keras.layers import Dense"
   ]
  },
  {
   "cell_type": "code",
   "execution_count": 7,
   "metadata": {},
   "outputs": [],
   "source": [
    "classifier = Sequential()\n"
   ]
  },
  {
   "cell_type": "code",
   "execution_count": 8,
   "metadata": {},
   "outputs": [
    {
     "name": "stderr",
     "output_type": "stream",
     "text": [
      "C:\\Users\\Moni\\Anaconda3\\lib\\site-packages\\ipykernel_launcher.py:1: UserWarning: Update your `Dense` call to the Keras 2 API: `Dense(activation=\"relu\", input_dim=11, units=6, kernel_initializer=\"uniform\")`\n",
      "  \"\"\"Entry point for launching an IPython kernel.\n",
      "C:\\Users\\Moni\\Anaconda3\\lib\\site-packages\\ipykernel_launcher.py:2: UserWarning: Update your `Dense` call to the Keras 2 API: `Dense(activation=\"relu\", units=6, kernel_initializer=\"uniform\")`\n",
      "  \n",
      "C:\\Users\\Moni\\Anaconda3\\lib\\site-packages\\ipykernel_launcher.py:3: UserWarning: Update your `Dense` call to the Keras 2 API: `Dense(activation=\"sigmoid\", units=1, kernel_initializer=\"uniform\")`\n",
      "  This is separate from the ipykernel package so we can avoid doing imports until\n"
     ]
    }
   ],
   "source": [
    "classifier.add(Dense(output_dim = 6, init = 'uniform', activation = 'relu', input_dim = 11))\n",
    "classifier.add(Dense(output_dim = 6, init = 'uniform', activation = 'relu'))\n",
    "classifier.add(Dense(output_dim = 1, init = 'uniform', activation = 'sigmoid'))"
   ]
  },
  {
   "cell_type": "code",
   "execution_count": 9,
   "metadata": {},
   "outputs": [
    {
     "name": "stdout",
     "output_type": "stream",
     "text": [
      "WARNING:tensorflow:From C:\\Users\\Moni\\Anaconda3\\lib\\site-packages\\tensorflow\\python\\ops\\nn_impl.py:180: add_dispatch_support.<locals>.wrapper (from tensorflow.python.ops.array_ops) is deprecated and will be removed in a future version.\n",
      "Instructions for updating:\n",
      "Use tf.where in 2.0, which has the same broadcast rule as np.where\n"
     ]
    }
   ],
   "source": [
    "classifier.compile(optimizer = 'adam', loss = 'binary_crossentropy', metrics = ['accuracy'])"
   ]
  },
  {
   "cell_type": "code",
   "execution_count": 10,
   "metadata": {},
   "outputs": [
    {
     "name": "stderr",
     "output_type": "stream",
     "text": [
      "C:\\Users\\Moni\\Anaconda3\\lib\\site-packages\\ipykernel_launcher.py:1: UserWarning: The `nb_epoch` argument in `fit` has been renamed `epochs`.\n",
      "  \"\"\"Entry point for launching an IPython kernel.\n"
     ]
    },
    {
     "name": "stdout",
     "output_type": "stream",
     "text": [
      "WARNING:tensorflow:From C:\\Users\\Moni\\Anaconda3\\lib\\site-packages\\keras\\backend\\tensorflow_backend.py:422: The name tf.global_variables is deprecated. Please use tf.compat.v1.global_variables instead.\n",
      "\n",
      "Epoch 1/100\n",
      "8000/8000 [==============================] - 4s 518us/step - loss: 0.4843 - accuracy: 0.7960\n",
      "Epoch 2/100\n",
      "8000/8000 [==============================] - 2s 246us/step - loss: 0.4286 - accuracy: 0.7960\n",
      "Epoch 3/100\n",
      "8000/8000 [==============================] - 2s 274us/step - loss: 0.4223 - accuracy: 0.8004\n",
      "Epoch 4/100\n",
      "8000/8000 [==============================] - 2s 280us/step - loss: 0.4162 - accuracy: 0.8269\n",
      "Epoch 5/100\n",
      "8000/8000 [==============================] - 2s 290us/step - loss: 0.4118 - accuracy: 0.8294\n",
      "Epoch 6/100\n",
      "8000/8000 [==============================] - 2s 234us/step - loss: 0.4083 - accuracy: 0.8316\n",
      "Epoch 7/100\n",
      "8000/8000 [==============================] - 2s 250us/step - loss: 0.4061 - accuracy: 0.8335\n",
      "Epoch 8/100\n",
      "8000/8000 [==============================] - 2s 246us/step - loss: 0.4046 - accuracy: 0.8342\n",
      "Epoch 9/100\n",
      "8000/8000 [==============================] - 2s 223us/step - loss: 0.4030 - accuracy: 0.8341\n",
      "Epoch 10/100\n",
      "8000/8000 [==============================] - 2s 254us/step - loss: 0.4018 - accuracy: 0.8341\n",
      "Epoch 11/100\n",
      "8000/8000 [==============================] - 2s 269us/step - loss: 0.4006 - accuracy: 0.8345\n",
      "Epoch 12/100\n",
      "8000/8000 [==============================] - 2s 252us/step - loss: 0.3997 - accuracy: 0.8351\n",
      "Epoch 13/100\n",
      "8000/8000 [==============================] - 2s 297us/step - loss: 0.3990 - accuracy: 0.8334\n",
      "Epoch 14/100\n",
      "8000/8000 [==============================] - 2s 229us/step - loss: 0.3982 - accuracy: 0.8349\n",
      "Epoch 15/100\n",
      "8000/8000 [==============================] - 2s 213us/step - loss: 0.3971 - accuracy: 0.8339\n",
      "Epoch 16/100\n",
      "8000/8000 [==============================] - 2s 222us/step - loss: 0.3965 - accuracy: 0.8351\n",
      "Epoch 17/100\n",
      "8000/8000 [==============================] - 2s 264us/step - loss: 0.3942 - accuracy: 0.8381\n",
      "Epoch 18/100\n",
      "8000/8000 [==============================] - 2s 217us/step - loss: 0.3913 - accuracy: 0.8365\n",
      "Epoch 19/100\n",
      "8000/8000 [==============================] - 2s 194us/step - loss: 0.3849 - accuracy: 0.8414\n",
      "Epoch 20/100\n",
      "8000/8000 [==============================] - 2s 219us/step - loss: 0.3769 - accuracy: 0.8425\n",
      "Epoch 21/100\n",
      "8000/8000 [==============================] - 2s 292us/step - loss: 0.3684 - accuracy: 0.8470\n",
      "Epoch 22/100\n",
      "8000/8000 [==============================] - 2s 269us/step - loss: 0.3623 - accuracy: 0.8505\n",
      "Epoch 23/100\n",
      "8000/8000 [==============================] - 2s 221us/step - loss: 0.3587 - accuracy: 0.8512\n",
      "Epoch 24/100\n",
      "8000/8000 [==============================] - 2s 243us/step - loss: 0.3561 - accuracy: 0.8544\n",
      "Epoch 25/100\n",
      "8000/8000 [==============================] - 2s 215us/step - loss: 0.3529 - accuracy: 0.8544\n",
      "Epoch 26/100\n",
      "8000/8000 [==============================] - 2s 207us/step - loss: 0.3527 - accuracy: 0.8541\n",
      "Epoch 27/100\n",
      "8000/8000 [==============================] - 4s 459us/step - loss: 0.3498 - accuracy: 0.85660s - loss: 0.3608 - accura - ETA: 0s - l\n",
      "Epoch 28/100\n",
      "8000/8000 [==============================] - 2s 288us/step - loss: 0.3503 - accuracy: 0.8555\n",
      "Epoch 29/100\n",
      "8000/8000 [==============================] - 2s 228us/step - loss: 0.3497 - accuracy: 0.8543\n",
      "Epoch 30/100\n",
      "8000/8000 [==============================] - 2s 199us/step - loss: 0.3491 - accuracy: 0.8524\n",
      "Epoch 31/100\n",
      "8000/8000 [==============================] - 2s 202us/step - loss: 0.3490 - accuracy: 0.8556\n",
      "Epoch 32/100\n",
      "8000/8000 [==============================] - 2s 235us/step - loss: 0.3466 - accuracy: 0.8581\n",
      "Epoch 33/100\n",
      "8000/8000 [==============================] - 2s 282us/step - loss: 0.3476 - accuracy: 0.8581\n",
      "Epoch 34/100\n",
      "8000/8000 [==============================] - 2s 237us/step - loss: 0.3475 - accuracy: 0.8562\n",
      "Epoch 35/100\n",
      "8000/8000 [==============================] - 2s 210us/step - loss: 0.3465 - accuracy: 0.8568\n",
      "Epoch 36/100\n",
      "8000/8000 [==============================] - 2s 245us/step - loss: 0.3459 - accuracy: 0.8568\n",
      "Epoch 37/100\n",
      "8000/8000 [==============================] - 2s 288us/step - loss: 0.3463 - accuracy: 0.8560\n",
      "Epoch 38/100\n",
      "8000/8000 [==============================] - 2s 237us/step - loss: 0.3458 - accuracy: 0.8580\n",
      "Epoch 39/100\n",
      "8000/8000 [==============================] - 2s 279us/step - loss: 0.3460 - accuracy: 0.8559\n",
      "Epoch 40/100\n",
      "8000/8000 [==============================] - 2s 238us/step - loss: 0.3447 - accuracy: 0.8560\n",
      "Epoch 41/100\n",
      "8000/8000 [==============================] - 2s 232us/step - loss: 0.3449 - accuracy: 0.8584\n",
      "Epoch 42/100\n",
      "8000/8000 [==============================] - 2s 230us/step - loss: 0.3444 - accuracy: 0.8589\n",
      "Epoch 43/100\n",
      "8000/8000 [==============================] - 2s 232us/step - loss: 0.3448 - accuracy: 0.8571\n",
      "Epoch 44/100\n",
      "8000/8000 [==============================] - 2s 295us/step - loss: 0.3429 - accuracy: 0.8609\n",
      "Epoch 45/100\n",
      "8000/8000 [==============================] - 2s 311us/step - loss: 0.3439 - accuracy: 0.8591\n",
      "Epoch 46/100\n",
      "8000/8000 [==============================] - 2s 241us/step - loss: 0.3426 - accuracy: 0.8602\n",
      "Epoch 47/100\n",
      "8000/8000 [==============================] - 2s 237us/step - loss: 0.3434 - accuracy: 0.8583\n",
      "Epoch 48/100\n",
      "8000/8000 [==============================] - 2s 235us/step - loss: 0.3412 - accuracy: 0.8601\n",
      "Epoch 49/100\n",
      "8000/8000 [==============================] - 2s 256us/step - loss: 0.3403 - accuracy: 0.8604\n",
      "Epoch 50/100\n",
      "8000/8000 [==============================] - 4s 475us/step - loss: 0.3416 - accuracy: 0.8609\n",
      "Epoch 51/100\n",
      "8000/8000 [==============================] - 2s 249us/step - loss: 0.3426 - accuracy: 0.8593\n",
      "Epoch 52/100\n",
      "8000/8000 [==============================] - 2s 251us/step - loss: 0.3406 - accuracy: 0.8571\n",
      "Epoch 53/100\n",
      "8000/8000 [==============================] - 2s 250us/step - loss: 0.3413 - accuracy: 0.8599\n",
      "Epoch 54/100\n",
      "8000/8000 [==============================] - 2s 239us/step - loss: 0.3403 - accuracy: 0.8619\n",
      "Epoch 55/100\n",
      "8000/8000 [==============================] - 2s 209us/step - loss: 0.3406 - accuracy: 0.8584\n",
      "Epoch 56/100\n",
      "8000/8000 [==============================] - 2s 216us/step - loss: 0.3398 - accuracy: 0.8622\n",
      "Epoch 57/100\n",
      "8000/8000 [==============================] - 2s 236us/step - loss: 0.3406 - accuracy: 0.8595\n",
      "Epoch 58/100\n",
      "8000/8000 [==============================] - 2s 260us/step - loss: 0.3413 - accuracy: 0.8597\n",
      "Epoch 59/100\n",
      "8000/8000 [==============================] - 2s 268us/step - loss: 0.3405 - accuracy: 0.8602\n",
      "Epoch 60/100\n",
      "8000/8000 [==============================] - 2s 287us/step - loss: 0.3393 - accuracy: 0.8609\n",
      "Epoch 61/100\n",
      "8000/8000 [==============================] - 2s 278us/step - loss: 0.3400 - accuracy: 0.8602\n",
      "Epoch 62/100\n",
      "8000/8000 [==============================] - 2s 226us/step - loss: 0.3394 - accuracy: 0.8630\n",
      "Epoch 63/100\n",
      "8000/8000 [==============================] - 2s 210us/step - loss: 0.3396 - accuracy: 0.8586\n",
      "Epoch 64/100\n",
      "8000/8000 [==============================] - 2s 238us/step - loss: 0.3389 - accuracy: 0.8618\n",
      "Epoch 65/100\n",
      "8000/8000 [==============================] - 2s 208us/step - loss: 0.3399 - accuracy: 0.8621\n",
      "Epoch 66/100\n",
      "8000/8000 [==============================] - 2s 197us/step - loss: 0.3391 - accuracy: 0.8608\n",
      "Epoch 67/100\n",
      "8000/8000 [==============================] - 2s 216us/step - loss: 0.3395 - accuracy: 0.8624\n",
      "Epoch 68/100\n",
      "8000/8000 [==============================] - 2s 245us/step - loss: 0.3394 - accuracy: 0.8609\n",
      "Epoch 69/100\n",
      "8000/8000 [==============================] - 2s 252us/step - loss: 0.3388 - accuracy: 0.8596\n",
      "Epoch 70/100\n",
      "8000/8000 [==============================] - 2s 242us/step - loss: 0.3396 - accuracy: 0.8605\n",
      "Epoch 71/100\n",
      "8000/8000 [==============================] - 2s 266us/step - loss: 0.3398 - accuracy: 0.8591\n",
      "Epoch 72/100\n",
      "8000/8000 [==============================] - 2s 207us/step - loss: 0.3378 - accuracy: 0.8615\n",
      "Epoch 73/100\n",
      "8000/8000 [==============================] - 2s 210us/step - loss: 0.3386 - accuracy: 0.8602\n",
      "Epoch 74/100\n",
      "8000/8000 [==============================] - 2s 207us/step - loss: 0.3382 - accuracy: 0.8619\n",
      "Epoch 75/100\n",
      "8000/8000 [==============================] - 2s 265us/step - loss: 0.3386 - accuracy: 0.8625\n",
      "Epoch 76/100\n",
      "8000/8000 [==============================] - 2s 216us/step - loss: 0.3378 - accuracy: 0.8622\n",
      "Epoch 77/100\n",
      "8000/8000 [==============================] - 2s 273us/step - loss: 0.3382 - accuracy: 0.8612\n",
      "Epoch 78/100\n",
      "8000/8000 [==============================] - 2s 222us/step - loss: 0.3385 - accuracy: 0.8612\n",
      "Epoch 79/100\n",
      "8000/8000 [==============================] - 2s 203us/step - loss: 0.3386 - accuracy: 0.8605\n",
      "Epoch 80/100\n",
      "8000/8000 [==============================] - 2s 220us/step - loss: 0.3382 - accuracy: 0.8605\n",
      "Epoch 81/100\n",
      "8000/8000 [==============================] - 2s 254us/step - loss: 0.3378 - accuracy: 0.8624\n",
      "Epoch 82/100\n",
      "8000/8000 [==============================] - 2s 208us/step - loss: 0.3370 - accuracy: 0.8622\n",
      "Epoch 83/100\n",
      "8000/8000 [==============================] - 2s 242us/step - loss: 0.3368 - accuracy: 0.86080s - loss: 0.3351 - ac\n",
      "Epoch 84/100\n",
      "8000/8000 [==============================] - 2s 202us/step - loss: 0.3374 - accuracy: 0.8620\n",
      "Epoch 85/100\n",
      "8000/8000 [==============================] - 2s 223us/step - loss: 0.3373 - accuracy: 0.8620\n",
      "Epoch 86/100\n",
      "8000/8000 [==============================] - 3s 329us/step - loss: 0.3375 - accuracy: 0.8620\n",
      "Epoch 87/100\n",
      "8000/8000 [==============================] - 2s 250us/step - loss: 0.3376 - accuracy: 0.8630\n",
      "Epoch 88/100\n",
      "8000/8000 [==============================] - 2s 228us/step - loss: 0.3369 - accuracy: 0.8615\n",
      "Epoch 89/100\n",
      "8000/8000 [==============================] - 2s 237us/step - loss: 0.3371 - accuracy: 0.8624\n",
      "Epoch 90/100\n",
      "8000/8000 [==============================] - 2s 235us/step - loss: 0.3377 - accuracy: 0.8625\n",
      "Epoch 91/100\n",
      "8000/8000 [==============================] - 2s 264us/step - loss: 0.3374 - accuracy: 0.8622\n",
      "Epoch 92/100\n",
      "8000/8000 [==============================] - 2s 239us/step - loss: 0.3377 - accuracy: 0.8611\n",
      "Epoch 93/100\n",
      "8000/8000 [==============================] - 2s 239us/step - loss: 0.3373 - accuracy: 0.8595\n",
      "Epoch 94/100\n",
      "8000/8000 [==============================] - 2s 278us/step - loss: 0.3377 - accuracy: 0.8625\n",
      "Epoch 95/100\n",
      "8000/8000 [==============================] - 2s 229us/step - loss: 0.3374 - accuracy: 0.8625\n",
      "Epoch 96/100\n",
      "8000/8000 [==============================] - 2s 234us/step - loss: 0.3362 - accuracy: 0.8620\n",
      "Epoch 97/100\n",
      "8000/8000 [==============================] - 2s 288us/step - loss: 0.3376 - accuracy: 0.8625\n",
      "Epoch 98/100\n",
      "8000/8000 [==============================] - 2s 242us/step - loss: 0.3366 - accuracy: 0.8622\n",
      "Epoch 99/100\n",
      "8000/8000 [==============================] - 2s 235us/step - loss: 0.3373 - accuracy: 0.8610\n",
      "Epoch 100/100\n",
      "8000/8000 [==============================] - 2s 239us/step - loss: 0.3361 - accuracy: 0.8605\n"
     ]
    }
   ],
   "source": [
    "classifier.fit(X_train, y_train, batch_size = 10, nb_epoch = 100)\n",
    "\n",
    "# Part 3 - Making the predictions and evaluating the model\n",
    "\n",
    "# Predicting the Test set results\n",
    "y_pred = classifier.predict(X_test)\n",
    "y_pred = (y_pred > 0.5)\n"
   ]
  },
  {
   "cell_type": "code",
   "execution_count": null,
   "metadata": {},
   "outputs": [],
   "source": []
  }
 ],
 "metadata": {
  "kernelspec": {
   "display_name": "Python 3",
   "language": "python",
   "name": "python3"
  },
  "language_info": {
   "codemirror_mode": {
    "name": "ipython",
    "version": 3
   },
   "file_extension": ".py",
   "mimetype": "text/x-python",
   "name": "python",
   "nbconvert_exporter": "python",
   "pygments_lexer": "ipython3",
   "version": "3.7.3"
  }
 },
 "nbformat": 4,
 "nbformat_minor": 2
}
